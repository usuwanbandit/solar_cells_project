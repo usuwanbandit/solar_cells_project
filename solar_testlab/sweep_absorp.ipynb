{
 "cells": [
  {
   "cell_type": "code",
   "execution_count": 1,
   "metadata": {},
   "outputs": [],
   "source": [
    "from solcore import si, material\n",
    "from solcore.structure import Layer, Structure, Junction\n",
    "from solcore.solar_cell import SolarCell\n",
    "import solcore.quantum_mechanics as QM\n",
    "import solcore.poisson_drift_diffusion as PDD\n",
    "import numpy as np\n",
    "from solcore.light_source import LightSource\n",
    "from solcore.solar_cell_solver import solar_cell_solver\n",
    "import matplotlib.pyplot as plt\n",
    "import os\n",
    "import shutil"
   ]
  },
  {
   "cell_type": "code",
   "execution_count": null,
   "metadata": {},
   "outputs": [],
   "source": [
    "wl = np.linspace(350, 1200, 401) * 1e-9\n",
    "light_source = LightSource(\n",
    "    source_type=\"standard\",\n",
    "    version=\"AM1.5g\",\n",
    "    x=wl,\n",
    "    output_units=\"photon_flux_per_m\",\n",
    "    concentration=1,\n",
    ")\n",
    "bulk = material(\"GaAs\")(T=293, strained=False)\n",
    "barrier = material(\"GaAsP\")(T=293, P=0.1, strained=True)\n",
    "\n",
    "# As well as some of the layers\n",
    "top_layer = Layer(width=si(\"30nm\"), material=barrier)\n",
    "inter = Layer(width=si(\"3nm\"), material=bulk)\n",
    "barrier_layer = Layer(width=si(\"5nm\"), material=barrier)\n",
    "bottom_layer = top_layer\n",
    "wl = np.linspace(350, 1050, 301) * 1e-9\n",
    "\n",
    "InSb = material('InSb')(T=293, strained=False)\n",
    "GaSb = material('GaSb')(T=293, strained=False)\n",
    "buffer = material('AlGaAs')(T=293, Al=0.3)\n",
    "capping = material('GaAs')(T=293)\n",
    "n_GaAs = material('GaAs')(T=293, Nd=1e15)\n",
    "p_GaAs = material('GaAs')(T=293, Na=1e15)\n",
    "# We create the QW material at the given composition\n",
    "QW = material(\"InGaAs\")(T=293, In=0.15, strained=True)\n",
    "\n",
    "n_layer = Layer(width=250e-9, material=n_GaAs)\n",
    "QW1 = Layer(width=5e-9, material=InSb)\n",
    "Capping_layer = Layer(width=80e-9, material=capping)\n",
    "QW2 = Layer(width=5e-9, material=GaSb)\n",
    "p_layer = Layer(width=400e-9, material=p_GaAs)\n",
    "test_ver1 = Structure([n_layer, QW1, Capping_layer, QW2, p_layer], substrate=bulk)\n",
    "test_ver2 = Structure([n_layer, QW1, Capping_layer, p_layer], substrate=bulk)"
   ]
  },
  {
   "cell_type": "code",
   "execution_count": null,
   "metadata": {},
   "outputs": [],
   "source": [
    "T = 293\n",
    "    n_GaAs = material(\"GaAs\")(T=T, Nd=1e24)\n",
    "    p_GaAs = material(\"GaAs\")(T=T, Na=8e22)\n",
    "    QWmat = material(\"InGaAs\")(T=T, In=0.2, strained=True)\n",
    "    Bmat = material(\"GaAsP\")(T=T, P=0.1, strained=True)\n",
    "    i_GaAs = material(\"GaAs\")(T=T)\n",
    "    i_GaAs_dope = material(\"GaAs\")(T=T, Na= 1e14)\n",
    "\n",
    "    struc = Structure([Layer(width=50e-9, material=n_GaAs, role=\"Emitter\")]+\n",
    "                      [Layer(width=barrier, material=Bmat, role=\"barrier\")] +\n",
    "                      + 10 * [Layer(width=barrier, material=Bmat, role=\"barrier\"),\n",
    "                              Layer(width=interlayer, material=i_GaAs_dope, role=\"interlayer\"),\n",
    "                              Layer(width=dot, material=QWmat, role=\"well\"),\n",
    "                              Layer(width=interlayer, material=i_GaAs_dope, role=\"interlayer\"),\n",
    "                              Layer(width=barrier, material=Bmat, role=\"barrier\")] +\n",
    "                      # +10 * [Layer(width=10e-9, material=Bmat, role=\"barrier\"),\n",
    "                             # Layer(width=2e-9, material=i_GaAs, role=\"well\"),\n",
    "                             # Layer(width=7e-9, material=QWmat, role=\"well\"),\n",
    "                             # Layer(width=2e-9, material=i_GaAs, role=\"well\"),\n",
    "                             # Layer(width=10e-9, material=Bmat, role=\"barrier\"),] +\n",
    "                      [Layer(width=barrier, material=Bmat, role=\"barrier\")] +\n",
    "                      [Layer(width=50e-9, material=p_GaAs, role=\"Base\")],\n",
    "                      substrate=i_GaAs)\n",
    "    # print(struc)\n",
    "    output_2 = QM.schrodinger(struc, quasiconfined=0.05, graphtype='potentialsLDOS', num_eigenvalues=200, show=True)\n",
    "    # print(output_2)"
   ]
  }
 ],
 "metadata": {
  "kernelspec": {
   "display_name": "Python 3",
   "language": "python",
   "name": "python3"
  },
  "language_info": {
   "codemirror_mode": {
    "name": "ipython",
    "version": 3
   },
   "file_extension": ".py",
   "mimetype": "text/x-python",
   "name": "python",
   "nbconvert_exporter": "python",
   "pygments_lexer": "ipython3",
   "version": "3.11.6"
  }
 },
 "nbformat": 4,
 "nbformat_minor": 2
}
