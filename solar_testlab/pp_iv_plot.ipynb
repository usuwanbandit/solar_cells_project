{
 "cells": [
  {
   "cell_type": "code",
   "execution_count": 1,
   "metadata": {},
   "outputs": [
    {
     "name": "stdout",
     "output_type": "stream",
     "text": [
      "WARNING: The RCWA solver will not be available because an S4 installation has not been found.\n"
     ]
    },
    {
     "name": "stderr",
     "output_type": "stream",
     "text": [
      "c:\\Users\\usuwa\\PycharmProjects\\Solarcell\\venv\\lib\\site-packages\\solcore\\registries.py:73: UserWarning: Optics solver 'RCWA' will not be available. An installation of S4 has not been found.\n",
      "  warn(\n"
     ]
    }
   ],
   "source": [
    "from solcore import si, material\n",
    "from solcore.structure import Layer, Structure, Junction\n",
    "from solcore.solar_cell import SolarCell\n",
    "import solcore.quantum_mechanics as QM\n",
    "import solcore.poisson_drift_diffusion as PDD\n",
    "import numpy as np\n",
    "from solcore.light_source import LightSource\n",
    "from solcore.solar_cell_solver import solar_cell_solver\n",
    "import matplotlib.pyplot as plt\n",
    "import os\n",
    "import shutil"
   ]
  },
  {
   "cell_type": "code",
   "execution_count": 3,
   "metadata": {},
   "outputs": [],
   "source": [
    "wl = np.linspace(350, 1200, 401) * 1e-9\n",
    "light_source = LightSource(\n",
    "    source_type=\"standard\",\n",
    "    version=\"AM1.5g\",\n",
    "    x=wl,\n",
    "    output_units=\"photon_flux_per_m\",\n",
    "    concentration=1,\n",
    ")\n"
   ]
  },
  {
   "cell_type": "code",
   "execution_count": 4,
   "metadata": {},
   "outputs": [],
   "source": [
    "T = 298\n",
    "wl = np.linspace(350, 1050, 301) * 1e-9\n",
    "# First, we create the materials of the QW\n",
    "# สร้างวัสดุทำรับQW ในsolar cell\n",
    "QWmat = material(\"InGaAs\")(T=T, In=0.2, strained=True)\n",
    "Bmat = material(\"GaAsP\")(T=T, P=0.1, strained=False)\n",
    "i_GaAs = material(\"GaAs\")(T=T)\n",
    "i_GaAs_dope = material(\"GaAs\")(T=T, Na=1e14)\n",
    "n_GaAs = material(\"GaAs\")(T=T, Nd=1e24)\n",
    "p_GaAs = material(\"GaAs\")(T=T, Na=8e22)\n"
   ]
  },
  {
   "cell_type": "code",
   "execution_count": 5,
   "metadata": {},
   "outputs": [
    {
     "name": "stdout",
     "output_type": "stream",
     "text": [
      "Solving QW properties...\n"
     ]
    },
    {
     "name": "stdout",
     "output_type": "stream",
     "text": [
      "Calculation finished!!\n",
      "Organising the bands into E, HH and LH\n"
     ]
    }
   ],
   "source": [
    "QW = PDD.QWunit([\n",
    "    Layer(width=5e-9, material=Bmat, role=\"barrier\"),\n",
    "    Layer(width=3e-9, material=i_GaAs, role=\"interlayer\"),\n",
    "    Layer(width=7e-9, material=QWmat, role=\"well\"),\n",
    "    Layer(width=3e-9, material=i_GaAs, role=\"interlayer\"),\n",
    "    Layer(width=5e-9, material=Bmat, role=\"barrier\")\n",
    "], T=T, repeat=30, substrate=i_GaAs, )\n",
    "QW_list = QW.GetEffectiveQW(wavelengths=wl, mode=\"kp6x6\")\n",
    "GaAs_junction = Junction(\n",
    "    [Layer(width=150e-9, material=n_GaAs, role=\"Emitter\"),]\n",
    "     # Layer(width=barrier, material=Bmat, role=\"barrier\")]\n",
    "    + QW_list\n",
    "    # + [Layer(width=barrier, material=Bmat, role=\"barrier\"),\n",
    "    +[Layer(width=2000e-9, material=p_GaAs, role=\"Base\"),\n",
    "    ],\n",
    "    sn=1e6,\n",
    "    sp=1e6,T=T,kind=\"PDD\",)"
   ]
  },
  {
   "cell_type": "code",
   "execution_count": 9,
   "metadata": {},
   "outputs": [],
   "source": [
    "GaAs_junction = Junction(\n",
    "     [Layer(width=150e-9, material=n_GaAs, role=\"Emitter\"), ]\n",
    "     # Layer(width=barrier, material=Bmat, role=\"barrier\")]\n",
    "     # + QW_list\n",
    "         # + [Layer(width=barrier, material=Bmat, role=\"barrier\"),\n",
    "     +[Layer(width=2000e-9, material=p_GaAs, role=\"Base\"),\n",
    "     ],\n",
    "     sn=1e6,\n",
    "     sp=1e6, T=T, kind=\"PDD\", )"
   ]
  },
  {
   "cell_type": "code",
   "execution_count": 10,
   "metadata": {},
   "outputs": [
    {
     "name": "stdout",
     "output_type": "stream",
     "text": [
      "Calculating RAT...\n",
      "Calculating absorption profile...\n",
      "Solving QE of the solar cell...\n",
      "Solving quantum efficiency...\n",
      "Processing structure...\n",
      "...done!\n",
      "\n",
      "Solving equilibrium...\n",
      "...done!\n",
      "\n",
      "...done!\n",
      "\n",
      "...done!\n",
      "\n"
     ]
    }
   ],
   "source": [
    "my_solar_cell = SolarCell([\n",
    "    # [Layer(width=110e-9, material=MgF2, role=\"ARC1\"),\n",
    "    # Layer(width=60e-9, material=ZnS, role=\"ARC2\")\n",
    "                        GaAs_junction,]\n",
    "                          ,T=T,substrate=p_GaAs,)\n",
    "solar_cell_solver(my_solar_cell, \"qe\",\n",
    "                  user_options={\"light_source\": light_source,\n",
    "                                \"wavelength\": wl,\n",
    "                                \"optics_method\": \"TMM\",}, )\n"
   ]
  },
  {
   "cell_type": "code",
   "execution_count": 7,
   "metadata": {},
   "outputs": [
    {
     "data": {
      "image/png": "[encoded data removed]",
      "text/plain": [
       "<Figure size 600x400 with 1 Axes>"
      ]
     },
     "metadata": {},
     "output_type": "display_data"
    }
   ],
   "source": [
    "vint = np.linspace(-3.5, 4, 600)\n",
    "V = np.linspace(-3.5, 0, 300)\n",
    "allI = []; isc = []; voc = []; FF = []; pmpp = []\n",
    "fig3, axIV = plt.subplots(1, 1, figsize=(6, 4))"
   ]
  },
  {
   "cell_type": "code",
   "execution_count": 11,
   "metadata": {},
   "outputs": [
    {
     "name": "stdout",
     "output_type": "stream",
     "text": [
      "Solving IV of the junctions...\n",
      "Solving IV...\n",
      "Processing structure...\n",
      "...done!\n",
      "\n",
      "Solving equilibrium...\n",
      "...done!\n",
      "\n",
      "...done!\n",
      "\n",
      "Processing structure...\n",
      "...done!\n",
      "\n",
      "Solving equilibrium...\n",
      "...done!\n",
      "\n",
      "...done!\n",
      "\n",
      "...done!\n",
      "\n",
      "Solving IV of the tunnel junctions...\n",
      "Solving IV of the total solar cell...\n"
     ]
    }
   ],
   "source": [
    "solar_cell_solver(my_solar_cell,\"iv\"\n",
    "                  ,user_options={\"light_source\": light_source,\n",
    "                                \"wavelength\": wl,\n",
    "                                 \"optics_method\": None,\n",
    "                                 \"light_iv\": True,\n",
    "                                 \"mpp\": True,\n",
    "                                 \"voltages\": V,\n",
    "                                 \"internal_voltages\": vint,\n",
    "                    },)\n",
    "isc.append(my_solar_cell.iv[\"Isc\"])\n",
    "voc.append(my_solar_cell.iv[\"Voc\"])\n",
    "FF.append(my_solar_cell.iv[\"FF\"])\n",
    "pmpp.append(my_solar_cell.iv[\"Pmpp\"])\n",
    "allI.append(my_solar_cell.iv[\"IV\"][1])\n"
   ]
  },
  {
   "cell_type": "code",
   "execution_count": 12,
   "metadata": {},
   "outputs": [
    {
     "data": {
      "image/png": "[encoded data removed]",
      "text/plain": [
       "<Figure size 640x480 with 1 Axes>"
      ]
     },
     "metadata": {},
     "output_type": "display_data"
    }
   ],
   "source": [
    "plt.plot(-V, allI[0] / -1e3, label='QD') \n",
    "plt.plot(-V, allI[1] / -1e3, label='non_QD')\n",
    "plt.ylim(0, 0.15)\n",
    "plt.ylabel(\"I$_{SC}$ (Acm$^{-2}$)\")\n",
    "plt.xlabel(\"Voltage (V)\")\n",
    "plt.xlim(0, 1.5)\n",
    "plt.legend()\n",
    "plt.savefig('QD_vs_nonQD.png', dpi=300)"
   ]
  },
  {
   "cell_type": "code",
   "execution_count": null,
   "metadata": {},
   "outputs": [],
   "source": []
  }
 ],
 "metadata": {
  "kernelspec": {
   "display_name": "venv",
   "language": "python",
   "name": "python3"
  },
  "language_info": {
   "codemirror_mode": {
    "name": "ipython",
    "version": 3
   },
   "file_extension": ".py",
   "mimetype": "text/x-python",
   "name": "python",
   "nbconvert_exporter": "python",
   "pygments_lexer": "ipython3",
   "version": "3.9.13"
  }
 },
 "nbformat": 4,
 "nbformat_minor": 2
}
