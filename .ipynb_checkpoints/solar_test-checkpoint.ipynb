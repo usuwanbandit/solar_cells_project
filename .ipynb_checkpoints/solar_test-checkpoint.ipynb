{
 "cells": [
  {
   "cell_type": "code",
   "execution_count": 1,
   "metadata": {},
   "outputs": [],
   "source": [
    "from solcore import material\n",
    "from solcore.structure import Layer, Junction, TunnelJunction\n",
    "from solcore.solar_cell import SolarCell\n",
    "from solcore.solar_cell_solver import solar_cell_solver\n",
    "from solcore.light_source import LightSource\n",
    "import solcore.poisson_drift_diffusion as PDD"
   ]
  },
  {
   "cell_type": "code",
   "execution_count": 2,
   "metadata": {},
   "outputs": [],
   "source": [
    "import numpy as np\n",
    "import matplotlib.pyplot as plt"
   ]
  },
  {
   "cell_type": "code",
   "execution_count": 3,
   "metadata": {},
   "outputs": [],
   "source": [
    "def GaAs(i):\n",
    "    GaAs_junction = Junction(\n",
    "        [\n",
    "            # Layer(width=10e-9, material=window_bottom, role=\"Window\"),  #In width Nd\n",
    "            Layer(width=float(i), material=n_GaAs, role=\"Emitter\"),       #Nd width\n",
    "            Layer(width=2000e-9, material=p_GaAs, role=\"Base\"),         #Na width\n",
    "            # Layer(width=200e-9, material=bsf_bottom, role=\"BSF\"),       #Na In\n",
    "        ],\n",
    "        sn=1e6,\n",
    "        sp=1e6,\n",
    "        T=T,\n",
    "        kind=\"PDD\")\n",
    "    # print(my_solar_cell)\n",
    "    return GaAs_junction"
   ]
  },
  {
   "cell_type": "code",
   "execution_count": 4,
   "metadata": {},
   "outputs": [],
   "source": [
    "T = 298\n",
    "wl = np.linspace(350, 1050, 301) * 1e-9"
   ]
  },
  {
   "cell_type": "code",
   "execution_count": 5,
   "metadata": {},
   "outputs": [],
   "source": [
    "window_bottom = material(\"GaInP\")(T=T, Nd=5e24, In=0.49)    \n",
    "n_GaAs = material(\"GaAs\")(T=T, Nd=1e24)\n",
    "p_GaAs = material(\"GaAs\")(T=T, Na=8e22)\n",
    "bsf_bottom = material(\"GaInP\")(T=T, Na=5e24, In=0.49)"
   ]
  },
  {
   "cell_type": "code",
   "execution_count": 6,
   "metadata": {},
   "outputs": [],
   "source": [
    "light_source = LightSource(\n",
    "    source_type=\"standard\",\n",
    "    version=\"AM1.5g\",\n",
    "    x=wl,\n",
    "    output_units=\"photon_flux_per_m\",\n",
    "    concentration=1,\n",
    ")"
   ]
  },
  {
   "cell_type": "code",
   "execution_count": null,
   "metadata": {},
   "outputs": [
    {
     "name": "stdout",
     "output_type": "stream",
     "text": [
      "1.000000002302585\n",
      "<Structure object\n",
      "{'labels': [None], 'T': 298, 'cell_area': 1, 'shading': 0, 'reflectivity': None, 'junctions': 1, 'junction_indices': [0], 'tunnel_indices': [], 'substrate': <'GaAs' material Nd=1e+24>, 'incidence': None, 'R_series': 0}\n",
      "  <Junction object \n",
      "\t{'sn': 1000000.0, 'sp': 1000000.0, 'T': 298, 'kind': 'PDD'}\n",
      "\t<Emitter layer 1e+09nm <'GaAs' material Nd=1e+24>>\n",
      "\t<Base layer 2e+03nm <'GaAs' material Na=8e+22>>> >\n",
      "Treating layer(s) 0 incoherently\n",
      "Calculating RAT...\n",
      "Calculating absorption profile...\n"
     ]
    }
   ],
   "source": [
    "fig3, axIV = plt.subplots(1, 1, figsize=(6, 4))\n",
    "num_con = 19\n",
    "con = np.logspace(1e-9, 1000e-9, num_con)\n",
    "vint = np.linspace(-2, 1, 300)\n",
    "V = np.linspace(-2, 0, 150)\n",
    "allI = []\n",
    "isc = []\n",
    "voc = []\n",
    "FF = []\n",
    "pmpp = []\n",
    "for i in con:\n",
    "    my_solar_cell = SolarCell([GaAs(i)],T=T,substrate=n_GaAs,)\n",
    "    print(i)\n",
    "    print(my_solar_cell)\n",
    "    solar_cell_solver(my_solar_cell,\"qe\",\n",
    "                    user_options={\n",
    "                        \"light_source\": light_source,\n",
    "                        \"wavelength\": wl,\n",
    "                        \"optics_method\": \"TMM\",},)\n",
    "    solar_cell_solver(my_solar_cell,\"iv\",\n",
    "                user_options={\n",
    "                    \"light_source\": light_source,\n",
    "                    \"wavelength\": wl,\n",
    "                    \"optics_method\": None,\n",
    "                    \"light_iv\": True,\n",
    "                    \"mpp\": True,\n",
    "                    \"voltages\": V,\n",
    "                    \"internal_voltages\": vint,\n",
    "    },)\n",
    "    isc.append(my_solar_cell.iv[\"Isc\"])\n",
    "    voc.append(my_solar_cell.iv[\"Voc\"])\n",
    "    FF.append(my_solar_cell.iv[\"FF\"])\n",
    "    pmpp.append(my_solar_cell.iv[\"Pmpp\"])\n",
    "    allI.append(my_solar_cell.iv[\"IV\"][1])\n",
    "    # And now, everything is plotting...\n",
    "    axIV.plot(-V, my_solar_cell.iv[\"IV\"][1] / -1e2, label=f'emitter width{i}')\n",
    "axIV.legend(loc=\"lower left\", frameon=False)\n",
    "axIV.set_ylim(10, 0)\n",
    "axIV.set_xlim(0, 1.5)\n",
    "axIV.set_xlabel(\"Voltage (V)\")\n",
    "axIV.set_ylabel(\"amp/cm^2\")"
   ]
  },
  {
   "cell_type": "code",
   "execution_count": null,
   "metadata": {},
   "outputs": [],
   "source": [
    "num_con = 19\n",
    "con = np.logspace(1e-9, 1000e-9, num_con)\n",
    "vint = np.linspace(-2, 1, 300)\n",
    "V = np.linspace(-2, 0, 150)\n",
    "allI = []\n",
    "isc = []\n",
    "voc = []\n",
    "FF = []\n",
    "pmpp = []\n",
    "GaAs_junction = Junction(\n",
    "    [\n",
    "        # Layer(width=10e-9, material=window_bottom, role=\"Window\"),  #In width Nd\n",
    "        Layer(width=150e-9, material=n_GaAs, role=\"Emitter\"),       #Nd width\n",
    "        Layer(width=2000e-9, material=p_GaAs, role=\"Base\"),         #Na width\n",
    "        # Layer(width=200e-9, material=bsf_bottom, role=\"BSF\"),       #Na In\n",
    "    ],\n",
    "    # sn=1e6,\n",
    "    # sp=1e6,\n",
    "    T=T,\n",
    "    kind=\"PDD\",)\n",
    "my_solar_cell = SolarCell([GaAs_junction,],T=T,substrate=n_GaAs,)\n",
    "solar_cell_solver(\n",
    "    my_solar_cell,\n",
    "    \"qe\",\n",
    "    user_options={\n",
    "        \"light_source\": light_source,\n",
    "        \"wavelength\": wl,\n",
    "        \"optics_method\": \"TMM\",\n",
    "    },\n",
    ")\n",
    "solar_cell_solver(my_solar_cell,\"iv\",\n",
    "            user_options={\n",
    "                \"light_source\": light_source,\n",
    "                \"wavelength\": wl,\n",
    "                \"optics_method\": None,\n",
    "                \"light_iv\": True,\n",
    "                \"mpp\": True,\n",
    "                \"voltages\": V,\n",
    "                \"internal_voltages\": vint,\n",
    "},)\n",
    "isc.append(my_solar_cell.iv[\"Isc\"])\n",
    "voc.append(my_solar_cell.iv[\"Voc\"])\n",
    "FF.append(my_solar_cell.iv[\"FF\"])\n",
    "pmpp.append(my_solar_cell.iv[\"Pmpp\"])\n",
    "allI.append(my_solar_cell.iv[\"IV\"][1])\n",
    "# And now, everything is plotting...\n",
    "plt.plot(-V, my_solar_cell.iv[\"IV\"][1] / 1e2, label=f'emitter width{150e-9}')\n",
    "plt.legend(loc=\"lower left\", frameon=False)\n",
    "plt.ylim(0, 1.1)\n",
    "plt.xlim(0, 2)\n",
    "plt.xlabel(\"Voltage (V)\")\n",
    "plt.ylabel(\"Normalized current (-)\")"
   ]
  },
  {
   "cell_type": "code",
   "execution_count": null,
   "metadata": {},
   "outputs": [],
   "source": [
    "plt.plot(-V, my_solar_cell.iv[\"IV\"][1] / -1e2, label=f'emitter width{150e-9}')\n",
    "plt.legend(loc=\"lower left\", frameon=False)\n",
    "plt.ylim(10, 0)\n",
    "plt.xlim(0, 1.5)\n",
    "plt.xlabel(\"Voltage (V)\")\n",
    "plt.ylabel(\"amp/cm^2\")"
   ]
  },
  {
   "cell_type": "code",
   "execution_count": null,
   "metadata": {},
   "outputs": [],
   "source": [
    "\n",
    "fig3, axIV = plt.subplots(1, 1, figsize=(6, 4))\n",
    "for i in con:\n",
    "    my_solar_cell = SolarCell([GaAs(i)],T=T,substrate=n_GaAs,)\n",
    "    print(i)\n",
    "    print(my_solar_cell)\n",
    "    solar_cell_solver(my_solar_cell,\"qe\",\n",
    "                    user_options={\n",
    "                        \"light_source\": light_source,\n",
    "                        \"wavelength\": wl,\n",
    "                        \"optics_method\": \"TMM\",},)\n",
    "    solar_cell_solver(my_solar_cell,\"iv\",\n",
    "                user_options={\n",
    "                    \"light_source\": light_source,\n",
    "                    \"wavelength\": wl,\n",
    "                    \"optics_method\": None,\n",
    "                    \"light_iv\": True,\n",
    "                    \"mpp\": True,\n",
    "                    \"voltages\": V,\n",
    "                    \"internal_voltages\": vint,\n",
    "    },)\n",
    "    isc.append(my_solar_cell.iv[\"Isc\"])\n",
    "    voc.append(my_solar_cell.iv[\"Voc\"])\n",
    "    FF.append(my_solar_cell.iv[\"FF\"])\n",
    "    pmpp.append(my_solar_cell.iv[\"Pmpp\"])\n",
    "    allI.append(my_solar_cell.iv[\"IV\"][1])\n",
    "    # And now, everything is plotting...\n",
    "    axIV.plot(-V, my_solar_cell.iv[\"IV\"][1] / -1e2, label=f'emitter width{i}')\n",
    "axIV.legend(loc=\"lower left\", frameon=False)\n",
    "axIV.set_ylim(10, 0)\n",
    "axIV.set_xlim(0, 1.5)\n",
    "axIV.set_xlabel(\"Voltage (V)\")\n",
    "axIV.set_ylabel(\"amp/cm^2\")"
   ]
  },
  {
   "cell_type": "code",
   "execution_count": null,
   "metadata": {},
   "outputs": [],
   "source": [
    "fig, (ax1) = plt.subplots(figsize=(11.25, 4))\n",
    "ax1.plot(wl * 1e9, my_solar_cell.absorbed, \"k\", label=\"Total Absorbed\")"
   ]
  },
  {
   "cell_type": "code",
   "execution_count": null,
   "metadata": {},
   "outputs": [],
   "source": []
  }
 ],
 "metadata": {
  "kernelspec": {
   "display_name": "Python 3 (ipykernel)",
   "language": "python",
   "name": "python3"
  },
  "language_info": {
   "codemirror_mode": {
    "name": "ipython",
    "version": 3
   },
   "file_extension": ".py",
   "mimetype": "text/x-python",
   "name": "python",
   "nbconvert_exporter": "python",
   "pygments_lexer": "ipython3",
   "version": "3.11.4"
  }
 },
 "nbformat": 4,
 "nbformat_minor": 2
}
