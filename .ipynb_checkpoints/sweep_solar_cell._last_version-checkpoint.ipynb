{
 "cells": [
  {
   "cell_type": "code",
   "execution_count": 1,
   "metadata": {},
   "outputs": [
    {
     "name": "stdout",
     "output_type": "stream",
     "text": [
      "Requirement already satisfied: solcore in c:\\users\\usuwa\\anaconda3\\lib\\site-packages (5.9.2)\n",
      "Requirement already satisfied: numpy>=1.21.0 in c:\\users\\usuwa\\anaconda3\\lib\\site-packages (from solcore) (1.24.3)\n",
      "Requirement already satisfied: matplotlib in c:\\users\\usuwa\\anaconda3\\lib\\site-packages (from solcore) (3.7.1)\n",
      "Requirement already satisfied: scipy in c:\\users\\usuwa\\anaconda3\\lib\\site-packages (from solcore) (1.10.1)\n",
      "Requirement already satisfied: tmm in c:\\users\\usuwa\\anaconda3\\lib\\site-packages (from solcore) (0.1.8)\n",
      "Requirement already satisfied: natsort in c:\\users\\usuwa\\anaconda3\\lib\\site-packages (from solcore) (8.4.0)\n",
      "Requirement already satisfied: regex in c:\\users\\usuwa\\anaconda3\\lib\\site-packages (from solcore) (2022.7.9)\n",
      "Requirement already satisfied: cycler in c:\\users\\usuwa\\anaconda3\\lib\\site-packages (from solcore) (0.11.0)\n",
      "Requirement already satisfied: pyyaml in c:\\users\\usuwa\\anaconda3\\lib\\site-packages (from solcore) (6.0)\n",
      "Requirement already satisfied: yabox in c:\\users\\usuwa\\anaconda3\\lib\\site-packages (from solcore) (1.1.0)\n",
      "Requirement already satisfied: joblib in c:\\users\\usuwa\\anaconda3\\lib\\site-packages (from solcore) (1.2.0)\n",
      "Requirement already satisfied: contourpy>=1.0.1 in c:\\users\\usuwa\\anaconda3\\lib\\site-packages (from matplotlib->solcore) (1.0.5)\n",
      "Requirement already satisfied: fonttools>=4.22.0 in c:\\users\\usuwa\\anaconda3\\lib\\site-packages (from matplotlib->solcore) (4.25.0)\n",
      "Requirement already satisfied: kiwisolver>=1.0.1 in c:\\users\\usuwa\\anaconda3\\lib\\site-packages (from matplotlib->solcore) (1.4.4)\n",
      "Requirement already satisfied: packaging>=20.0 in c:\\users\\usuwa\\anaconda3\\lib\\site-packages (from matplotlib->solcore) (23.0)\n",
      "Requirement already satisfied: pillow>=6.2.0 in c:\\users\\usuwa\\anaconda3\\lib\\site-packages (from matplotlib->solcore) (9.4.0)\n",
      "Requirement already satisfied: pyparsing>=2.3.1 in c:\\users\\usuwa\\anaconda3\\lib\\site-packages (from matplotlib->solcore) (3.0.9)\n",
      "Requirement already satisfied: python-dateutil>=2.7 in c:\\users\\usuwa\\anaconda3\\lib\\site-packages (from matplotlib->solcore) (2.8.2)\n",
      "Requirement already satisfied: six>=1.5 in c:\\users\\usuwa\\anaconda3\\lib\\site-packages (from python-dateutil>=2.7->matplotlib->solcore) (1.16.0)\n"
     ]
    }
   ],
   "source": [
    "!pip install solcore"
   ]
  },
  {
   "cell_type": "code",
   "execution_count": 2,
   "metadata": {},
   "outputs": [],
   "source": [
    "from solcore import material\n",
    "from solcore.structure import Layer, Junction, TunnelJunction\n",
    "from solcore.solar_cell import SolarCell\n",
    "from solcore.solar_cell_solver import solar_cell_solver\n",
    "from solcore.light_source import LightSource\n",
    "import solcore.poisson_drift_diffusion as PDD\n",
    "import numpy as np\n",
    "import matplotlib.pyplot as plt"
   ]
  },
  {
   "cell_type": "code",
   "execution_count": 3,
   "metadata": {},
   "outputs": [],
   "source": [
    "T = 298\n",
    "wl = np.linspace(350, 1050, 301) * 1e-9\n",
    "window_bottom = material(\"GaInP\")(T=T, Nd=5e24, In=0.49)    \n",
    "n_GaAs = material(\"GaAs\")(T=T, Nd=1e24)\n",
    "p_GaAs = material(\"GaAs\")(T=T, Na=8e22)\n",
    "bsf_bottom = material(\"GaInP\")(T=T, Na=5e24, In=0.49)\n",
    "light_source = LightSource(\n",
    "    source_type=\"standard\",\n",
    "    version=\"AM1.5g\",\n",
    "    x=wl,\n",
    "    output_units=\"photon_flux_per_m\",\n",
    "    concentration=1,\n",
    ")"
   ]
  },
  {
   "cell_type": "code",
   "execution_count": 4,
   "metadata": {},
   "outputs": [],
   "source": [
    "def solver_GaAs_for_sweep(Nd, width):\n",
    "    n_GaAs = material(\"GaAs\")(T=T, Nd=Nd)\n",
    "    p_GaAs = material(\"GaAs\")(T=T, Na=8e22)\n",
    "    GaAs_junction = Junction(\n",
    "    [\n",
    "        # Layer(width=10e-9, material=window_bottom, role=\"Window\"),  #In width Nd\n",
    "        Layer(width=width, material=n_GaAs, role=\"Emitter\"),       #Nd width\n",
    "        Layer(width=2000e-9, material=p_GaAs, role=\"Base\"),         #Na width\n",
    "        # Layer(width=200e-9, material=bsf_bottom, role=\"BSF\"),       #Na In\n",
    "    ],\n",
    "    T=T,\n",
    "    kind=\"PDD\")\n",
    "    my_solar_cell = SolarCell([GaAs_junction],T=T,substrate=p_GaAs,)\n",
    "    solar_cell_solver(my_solar_cell,\"iv\",\n",
    "               user_options={\n",
    "                   \"light_source\": light_source,\n",
    "                   \"wavelength\": wl,\n",
    "                   \"optics_method\": 'TMM',\n",
    "                   \"light_iv\": True,\n",
    "                   \"mpp\": True,\n",
    "                   \"voltages\": V,\n",
    "                   \"internal_voltages\": vint,\n",
    "    },)  \n",
    "    return my_solar_cell  \n"
   ]
  },
  {
   "cell_type": "code",
   "execution_count": null,
   "metadata": {},
   "outputs": [
    {
     "name": "stdout",
     "output_type": "stream",
     "text": [
      "Calculating RAT...\n",
      "Calculating absorption profile...\n"
     ]
    }
   ],
   "source": [
    "vint = np.linspace(-2, 1, 300)\n",
    "V = np.linspace(-2, 0, 150)\n",
    "solver_GaAs_for_sweep(1e28,150e-9).iv[\"Pmpp\"]\n"
   ]
  },
  {
   "cell_type": "code",
   "execution_count": null,
   "metadata": {},
   "outputs": [],
   "source": [
    "width_con = 14\n",
    "doped_con = 19\n",
    "\n",
    "con_width = np.power(10, np.linspace(-9, -4, width_con))\n",
    "con_doped = np.power(10, np.linspace(14, 28, doped_con))\n",
    "vint = np.linspace(-2, 1, 300)\n",
    "V = np.linspace(-2, 0, 150)\n",
    "\n",
    "isc_np = np.zeros((doped_con, width_con))\n",
    "voc_np = np.zeros((doped_con, width_con))\n",
    "FF_np = np.zeros((doped_con, width_con))\n",
    "pmpp_np = np.zeros((doped_con, width_con))\n",
    "# allI_np = np.zero((width_con, doped_con))\n",
    "index = 0\n",
    "N = width_con*doped_con\n",
    "for i, doped in enumerate(con_doped):\n",
    "    for j, width  in enumerate(con_width):\n",
    "        my_solar_cell = solver_GaAs_for_sweep(doped, width)\n",
    "        isc_np[i, j] =  my_solar_cell.iv[\"Isc\"]\n",
    "        voc_np[i, j] = my_solar_cell.iv[\"Voc\"]\n",
    "        FF_np[i, j] = my_solar_cell.iv[\"FF\"]\n",
    "        pmpp_np[i, j] = my_solar_cell.iv[\"Pmpp\"]\n",
    "        # allI_np[i, j] =my_solar_cell.iv[\"IV\"][1]\n",
    "        # emitter_width(ii)\n",
    "        index += 1\n",
    "        print('==============================\\n')\n",
    "        print(int(index / N * 100), \"%\\n\")\n",
    "        print('==============================\\n')\n"
   ]
  },
  {
   "cell_type": "code",
   "execution_count": null,
   "metadata": {},
   "outputs": [],
   "source": [
    "from numpy import ma\n",
    "from matplotlib import cm, ticker\n",
    "\n",
    "X, Y = np.meshgrid(con_width, con_doped)\n",
    "eff = pmpp_np / light_source.power_density * 100\n",
    "eff = ma.masked_where(eff <= 0, eff)\n",
    "fig2, axes = plt.subplots(2, 2, figsize=(11.25, 8))\n",
    "\n",
    "cs1 = axes[0, 0].contourf(X, Y, eff, 100, cmap=cm.jet)\n",
    "axes[0, 0].set_xlabel(\"width\")\n",
    "axes[0, 0].set_ylabel(\"doping concentration\")\n",
    "cbar1 = fig2.colorbar(cs1)\n",
    "\n",
    "cs2 = axes[0, 1].contourf(X, Y, abs(isc_np), 100, cmap=cm.jet)\n",
    "axes[0, 1].set_xlabel(\"Concentration (suns)\")\n",
    "axes[0, 1].set_ylabel(\"I$_{SC}$ (Am$^{-2}$)\")\n",
    "cbar2 = fig2.colorbar(cs2)\n",
    "\n",
    "\n",
    "cs3 = axes[1, 0].contourf(X, Y, abs(voc_np), 100, cmap=cm.jet)\n",
    "axes[1, 0].set_xlabel(\"Concentration (suns)\")\n",
    "axes[1, 0].set_ylabel(\"V$_{OC}$ (V)\")\n",
    "cbar3 = fig2.colorbar(cs3)\n",
    "\n",
    "cs4 = axes[1, 1].contourf(X, Y, abs(FF_np) * 100, 100, cmap=cm.jet)\n",
    "axes[1, 1].set_xlabel(\"Concentration (suns)\")\n",
    "axes[1, 1].set_ylabel(\"Fill Factor (%)\")\n",
    "cbar4 = fig2.colorbar(cs4)\n",
    "\n",
    "plt.tight_layout()"
   ]
  },
  {
   "cell_type": "code",
   "execution_count": null,
   "metadata": {},
   "outputs": [],
   "source": []
  }
 ],
 "metadata": {
  "kernelspec": {
   "display_name": "Python 3 (ipykernel)",
   "language": "python",
   "name": "python3"
  },
  "language_info": {
   "codemirror_mode": {
    "name": "ipython",
    "version": 3
   },
   "file_extension": ".py",
   "mimetype": "text/x-python",
   "name": "python",
   "nbconvert_exporter": "python",
   "pygments_lexer": "ipython3",
   "version": "3.11.4"
  }
 },
 "nbformat": 4,
 "nbformat_minor": 2
}
